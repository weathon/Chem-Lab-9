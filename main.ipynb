{
 "cells": [
  {
   "cell_type": "code",
   "execution_count": 1,
   "metadata": {},
   "outputs": [],
   "source": [
    "import numpy as np\n",
    "import pandas as pd\n",
    "import scipy.stats"
   ]
  },
  {
   "attachments": {},
   "cell_type": "markdown",
   "metadata": {},
   "source": [
    "## ANOVA Stat\n",
    "### Data preprocessing\n",
    "This process is differnet compared with the lab manuel because we are using pythn to process the data instead of Excel. \n",
    "1. We first read the data, remove unkown compunds columns (CMPD1, CMPD2, ... CMPDn), t\n",
    "1. Then we replaced all empty values with 0s. \n",
    "1. We mapped each class to a number so that it will be easiler to handle\n",
    "3. We created a datarame for each compound by conditional filtering, with columns as classes and rows with differnet records from samples.\n",
    "1. We did a ANOVA test on each dataframe using scipy and printed the result"
   ]
  },
  {
   "cell_type": "code",
   "execution_count": 2,
   "metadata": {},
   "outputs": [],
   "source": [
    "frame = pd.read_csv(\"data.csv\")\n",
    "filter = [name for name in frame.columns if not \"CMPD\" in name]\n",
    "filtered_frame = frame[filter].replace(np.NaN, 0)\n",
    "mapping_keys = list(filtered_frame[\"Class\"].drop_duplicates())\n",
    "map = {}\n",
    "for i in range(len(mapping_keys)):\n",
    "    map[mapping_keys[i]] = i\n",
    "\n",
    "for key in mapping_keys:\n",
    "    filtered_frame.loc[filtered_frame[\"Class\"] == key,\"Class\"] = map[key]"
   ]
  },
  {
   "cell_type": "code",
   "execution_count": 4,
   "metadata": {},
   "outputs": [],
   "source": [
    "frames = {}\n",
    "for cmpd_name in [col for col in filtered_frame.columns if not col in [\"Sample ID\", \"Class\"]]:\n",
    "    matrix = [[] for i in range(len(mapping_keys))]\n",
    "    for Class in range(len(mapping_keys)):\n",
    "        matrix[Class]=list(filtered_frame[filtered_frame[\"Class\"] == Class][cmpd_name])\n",
    "    # tmp = pd.DataFrame(np.transpose(matrix), columns = range(len(mapping_keys))) \n",
    "    frames[cmpd_name] = matrix"
   ]
  },
  {
   "cell_type": "code",
   "execution_count": 8,
   "metadata": {},
   "outputs": [
    {
     "name": "stdout",
     "output_type": "stream",
     "text": [
      "significant f=21.761704277297284 p=7.205485931829849e-08 CBDVA\n",
      "significant f=136.61686931009564 p=2.553571753560859e-18 CBDA\n",
      "significant f=5.319141567651908 p=0.004344679875391883 CBGA\n",
      "significant f=2.9471053566693155 p=0.04759586076472965 THCV\n",
      "significant f=26.777702534394503 p=7.429505599404986e-09 CBD\n",
      "significant f=9.338187129806075 p=0.00013908552447643995 CBG\n",
      "significant f=169.32285463886612 p=1.0387890739893493e-19 THCA\n",
      "Not significant f=1.360473052066244 p=0.27246679517794886 CBN\n",
      "significant f=5.962392035042408 p=0.0023859232948598456 THC\n",
      "significant f=5.5287218388770265 p=0.003565948213714433 8-THC\n",
      "significant f=13.674395068676908 p=6.545611869008788e-06 CBC\n"
     ]
    }
   ],
   "source": [
    "for i in frames.keys():\n",
    "    f, p = (scipy.stats.f_oneway(*frames[i]))\n",
    "    if p<0.05:\n",
    "        print(f\"significant f={f} p={p} {i}\")\n",
    "    else:\n",
    "        print(f\"Not significant f={f} p={p} {i}\")"
   ]
  }
 ],
 "metadata": {
  "kernelspec": {
   "display_name": "Python 3",
   "language": "python",
   "name": "python3"
  },
  "language_info": {
   "codemirror_mode": {
    "name": "ipython",
    "version": 3
   },
   "file_extension": ".py",
   "mimetype": "text/x-python",
   "name": "python",
   "nbconvert_exporter": "python",
   "pygments_lexer": "ipython3",
   "version": "3.8.13 (default, Oct  4 2022, 14:00:32) \n[GCC 9.4.0]"
  },
  "orig_nbformat": 4,
  "vscode": {
   "interpreter": {
    "hash": "9ac03a0a6051494cc606d484d27d20fce22fb7b4d169f583271e11d5ba46a56e"
   }
  }
 },
 "nbformat": 4,
 "nbformat_minor": 2
}
