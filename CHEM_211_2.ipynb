{
  "nbformat": 4,
  "nbformat_minor": 0,
  "metadata": {
    "colab": {
      "provenance": [],
      "authorship_tag": "ABX9TyNlYXU3XTCHKy0DDV0y+EfE",
      "include_colab_link": true
    },
    "kernelspec": {
      "name": "python3",
      "display_name": "Python 3"
    },
    "language_info": {
      "name": "python"
    }
  },
  "cells": [
    {
      "cell_type": "markdown",
      "metadata": {
        "id": "view-in-github",
        "colab_type": "text"
      },
      "source": [
        "<a href=\"https://colab.research.google.com/github/weathon/Chem-Lab-9/blob/LaTeX/CHEM_211_2.ipynb\" target=\"_parent\"><img src=\"https://colab.research.google.com/assets/colab-badge.svg\" alt=\"Open In Colab\"/></a>"
      ]
    },
    {
      "cell_type": "code",
      "execution_count": 1,
      "metadata": {
        "id": "hgyeWz8U4HSt"
      },
      "outputs": [],
      "source": [
        "import pylab\n",
        "import numpy as np\n",
        "import pandas as pd\n",
        "import tensorflow as tf"
      ]
    },
    {
      "cell_type": "code",
      "source": [
        "df = pd.read_csv(\"data.csv\").replace(np.NaN,0)\n",
        "mapping_keys = list(df[\"Class\"].drop_duplicates())\n",
        "map = {}\n",
        "for i in range(len(mapping_keys)):\n",
        "    map[mapping_keys[i]] = i\n",
        "\n",
        "for key in mapping_keys:\n",
        "    df.loc[df[\"Class\"] == key,\"Class\"] = map[key]\n",
        "Y_n = df[\"Class\"]\n",
        "filter = [name for name in df.columns if (not \"CMPD\" in name) and (not name in [\"Class\",\"Sample ID\",\"THC\",\"CBD\"])]\n",
        "df = df[filter]\n",
        "\n",
        "Y = []\n",
        "for i in Y_n:\n",
        "  tmp = [0, 0, 0, 0]\n",
        "  tmp[i] = 1\n",
        "  Y.append(tmp)"
      ],
      "metadata": {
        "id": "_PafU4QL5TSJ"
      },
      "execution_count": 127,
      "outputs": []
    },
    {
      "cell_type": "code",
      "source": [
        "indexs = np.arange(0,len(Y))\n",
        "np.random.shuffle(indexs)\n",
        "df = np.array(df)[indexs]\n",
        "Y = np.array(Y)[indexs]\n",
        "\n",
        "model = tf.keras.models.Sequential([\n",
        "  tf.keras.layers.Input(shape=(len(df[0]))),\n",
        "  tf.keras.layers.Dense(20, activation=\"relu\"),\n",
        "  tf.keras.layers.Dropout(0.5),\n",
        "  tf.keras.layers.Dense(30, activation=\"relu\"),\n",
        "  tf.keras.layers.Dense(10, activation=\"relu\"),\n",
        "  tf.keras.layers.Dense(10),\n",
        "  tf.keras.layers.Dense(4, activation=\"softmax\"),\n",
        "])\n",
        "model.summary()\n",
        "# print(model.output_shape)\n",
        "model.compile(optimizer=tf.keras.optimizers.Adam(),\n",
        "          loss='categorical_crossentropy',metrics=[\"accuracy\"])"
      ],
      "metadata": {
        "id": "c_TLTPk35DF4",
        "colab": {
          "base_uri": "https://localhost:8080/"
        },
        "outputId": "2c5b4917-adbf-46e5-c79a-856f8a132f73"
      },
      "execution_count": 118,
      "outputs": [
        {
          "output_type": "stream",
          "name": "stdout",
          "text": [
            "Model: \"sequential_31\"\n",
            "_________________________________________________________________\n",
            " Layer (type)                Output Shape              Param #   \n",
            "=================================================================\n",
            " dense_104 (Dense)           (None, 20)                200       \n",
            "                                                                 \n",
            " dropout_11 (Dropout)        (None, 20)                0         \n",
            "                                                                 \n",
            " dense_105 (Dense)           (None, 30)                630       \n",
            "                                                                 \n",
            " dense_106 (Dense)           (None, 10)                310       \n",
            "                                                                 \n",
            " dense_107 (Dense)           (None, 10)                110       \n",
            "                                                                 \n",
            " dense_108 (Dense)           (None, 4)                 44        \n",
            "                                                                 \n",
            "=================================================================\n",
            "Total params: 1,294\n",
            "Trainable params: 1,294\n",
            "Non-trainable params: 0\n",
            "_________________________________________________________________\n"
          ]
        }
      ]
    },
    {
      "cell_type": "code",
      "source": [
        "history = model.fit(df, Y, epochs=40, validation_split=0.2)"
      ],
      "metadata": {
        "id": "ux1BkUnY8FO0"
      },
      "execution_count": null,
      "outputs": []
    },
    {
      "cell_type": "code",
      "source": [
        "df = np.array(df)"
      ],
      "metadata": {
        "id": "TEeKnapABGTh"
      },
      "execution_count": null,
      "outputs": []
    },
    {
      "cell_type": "code",
      "source": [
        "for i in range(10):\n",
        "  data = df[i]\n",
        "  count = [0,0,0,0]\n",
        "  dis = {}\n",
        "  for j in df:\n",
        "    d = np.sum((data-j)**2)\n",
        "    if d==0:\n",
        "      continue\n",
        "    dis[d]=Y[i]\n",
        "\n",
        "  k = 5\n",
        "  keys = dis.keys()\n",
        "  keys = sorted(list(keys))\n",
        "  voted = []\n",
        "  for k in keys:\n",
        "    voted.append(dis[k])"
      ],
      "metadata": {
        "id": "lqaRfM1MAUqQ"
      },
      "execution_count": 141,
      "outputs": []
    },
    {
      "cell_type": "code",
      "source": [
        "voted"
      ],
      "metadata": {
        "colab": {
          "base_uri": "https://localhost:8080/"
        },
        "id": "s4Ci-Lq1B2iK",
        "outputId": "96912732-d7cd-408d-8252-a40edb6dd11f"
      },
      "execution_count": 142,
      "outputs": [
        {
          "output_type": "execute_result",
          "data": {
            "text/plain": [
              "[[1, 0, 0, 0],\n",
              " [1, 0, 0, 0],\n",
              " [1, 0, 0, 0],\n",
              " [1, 0, 0, 0],\n",
              " [1, 0, 0, 0],\n",
              " [1, 0, 0, 0],\n",
              " [1, 0, 0, 0],\n",
              " [1, 0, 0, 0],\n",
              " [1, 0, 0, 0],\n",
              " [1, 0, 0, 0],\n",
              " [1, 0, 0, 0],\n",
              " [1, 0, 0, 0],\n",
              " [1, 0, 0, 0],\n",
              " [1, 0, 0, 0],\n",
              " [1, 0, 0, 0],\n",
              " [1, 0, 0, 0],\n",
              " [1, 0, 0, 0],\n",
              " [1, 0, 0, 0],\n",
              " [1, 0, 0, 0],\n",
              " [1, 0, 0, 0],\n",
              " [1, 0, 0, 0],\n",
              " [1, 0, 0, 0],\n",
              " [1, 0, 0, 0],\n",
              " [1, 0, 0, 0],\n",
              " [1, 0, 0, 0],\n",
              " [1, 0, 0, 0],\n",
              " [1, 0, 0, 0],\n",
              " [1, 0, 0, 0],\n",
              " [1, 0, 0, 0],\n",
              " [1, 0, 0, 0],\n",
              " [1, 0, 0, 0],\n",
              " [1, 0, 0, 0],\n",
              " [1, 0, 0, 0],\n",
              " [1, 0, 0, 0],\n",
              " [1, 0, 0, 0]]"
            ]
          },
          "metadata": {},
          "execution_count": 142
        }
      ]
    },
    {
      "cell_type": "code",
      "source": [
        "keys"
      ],
      "metadata": {
        "colab": {
          "base_uri": "https://localhost:8080/"
        },
        "id": "_4Lo5B4cBzSj",
        "outputId": "b17d302a-23e1-4643-de1f-baff179e2612"
      },
      "execution_count": 140,
      "outputs": [
        {
          "output_type": "execute_result",
          "data": {
            "text/plain": [
              "[0.1685520305659401,\n",
              " 0.8385694885986336,\n",
              " 4.58204023758193,\n",
              " 5.913268433233372,\n",
              " 8.731895144298106,\n",
              " 16.453339220443645,\n",
              " 16.710168654613184,\n",
              " 27.8421778250814,\n",
              " 29.16608225239204,\n",
              " 29.328511579515634,\n",
              " 29.379688668667413,\n",
              " 30.382451310080032,\n",
              " 35.499083087373855,\n",
              " 36.5604463305413,\n",
              " 36.848883070610704,\n",
              " 42.45414929323277,\n",
              " 44.270303527974356,\n",
              " 142.166278317138,\n",
              " 142.5069577549301,\n",
              " 143.13310340832382,\n",
              " 157.91656018056517,\n",
              " 158.19369135905671,\n",
              " 158.84369871365286,\n",
              " 183.913401068598,\n",
              " 183.9355847308612,\n",
              " 184.18359836210533,\n",
              " 205.90146611197733,\n",
              " 206.68811409805795,\n",
              " 207.041378797352,\n",
              " 207.34718531514272,\n",
              " 211.84187539567836,\n",
              " 212.38892185432297,\n",
              " 230.01537386195912,\n",
              " 231.14549741950157,\n",
              " 231.40193856754485]"
            ]
          },
          "metadata": {},
          "execution_count": 140
        }
      ]
    },
    {
      "cell_type": "markdown",
      "source": [],
      "metadata": {
        "id": "n5xvRdrCBF_i"
      }
    }
  ]
}