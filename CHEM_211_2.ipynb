{
  "nbformat": 4,
  "nbformat_minor": 0,
  "metadata": {
    "colab": {
      "provenance": [],
      "authorship_tag": "ABX9TyPtZjwHo+BxS11l3J/+XZz7",
      "include_colab_link": true
    },
    "kernelspec": {
      "name": "python3",
      "display_name": "Python 3"
    },
    "language_info": {
      "name": "python"
    }
  },
  "cells": [
    {
      "cell_type": "markdown",
      "metadata": {
        "id": "view-in-github",
        "colab_type": "text"
      },
      "source": [
        "<a href=\"https://colab.research.google.com/github/weathon/Chem-Lab-9/blob/LaTeX/CHEM_211_2.ipynb\" target=\"_parent\"><img src=\"https://colab.research.google.com/assets/colab-badge.svg\" alt=\"Open In Colab\"/></a>"
      ]
    },
    {
      "cell_type": "code",
      "execution_count": null,
      "metadata": {
        "id": "hgyeWz8U4HSt"
      },
      "outputs": [],
      "source": [
        "import pylab\n",
        "import numpy as np\n",
        "import pandas as pd\n",
        "import tensorflow as tf"
      ]
    },
    {
      "cell_type": "code",
      "source": [
        "df = pd.read_csv(\"data.csv\").replace(np.NaN,0)\n",
        "mapping_keys = list(df[\"Class\"].drop_duplicates())\n",
        "map = {}\n",
        "for i in range(len(mapping_keys)):\n",
        "    map[mapping_keys[i]] = i\n",
        "\n",
        "for key in mapping_keys:\n",
        "    df.loc[df[\"Class\"] == key,\"Class\"] = map[key]\n",
        "Y_n = df[\"Class\"]\n",
        "filter = [name for name in df.columns if (not \"CMPD\" in name) and (not name in [\"Class\",\"Sample ID\",\"THC\",\"CBD\"])]\n",
        "df = df[filter]\n",
        "\n",
        "Y = []\n",
        "for i in Y_n:\n",
        "  tmp = [0, 0, 0, 0]\n",
        "  tmp[i] = 1\n",
        "  Y.append(tmp)"
      ],
      "metadata": {
        "id": "_PafU4QL5TSJ"
      },
      "execution_count": null,
      "outputs": []
    },
    {
      "cell_type": "code",
      "source": [
        "indexs = np.arange(0,len(Y))\n",
        "np.random.shuffle(indexs)\n",
        "df = np.array(df)[indexs]\n",
        "Y = np.array(Y)[indexs]\n",
        "\n",
        "model = tf.keras.models.Sequential([\n",
        "  tf.keras.layers.Input(shape=(len(df[0]))),\n",
        "  tf.keras.layers.Dense(20, activation=\"relu\"),\n",
        "  tf.keras.layers.Dropout(0.5),\n",
        "  tf.keras.layers.Dense(30, activation=\"relu\"),\n",
        "  tf.keras.layers.Dense(10, activation=\"relu\"),\n",
        "  tf.keras.layers.Dense(10),\n",
        "  tf.keras.layers.Dense(4, activation=\"softmax\"),\n",
        "])\n",
        "model.summary()\n",
        "# print(model.output_shape)\n",
        "model.compile(optimizer=tf.keras.optimizers.Adam(),\n",
        "          loss='categorical_crossentropy',metrics=[\"accuracy\"])"
      ],
      "metadata": {
        "id": "c_TLTPk35DF4",
        "colab": {
          "base_uri": "https://localhost:8080/"
        },
        "outputId": "2c5b4917-adbf-46e5-c79a-856f8a132f73"
      },
      "execution_count": null,
      "outputs": [
        {
          "output_type": "stream",
          "name": "stdout",
          "text": [
            "Model: \"sequential_31\"\n",
            "_________________________________________________________________\n",
            " Layer (type)                Output Shape              Param #   \n",
            "=================================================================\n",
            " dense_104 (Dense)           (None, 20)                200       \n",
            "                                                                 \n",
            " dropout_11 (Dropout)        (None, 20)                0         \n",
            "                                                                 \n",
            " dense_105 (Dense)           (None, 30)                630       \n",
            "                                                                 \n",
            " dense_106 (Dense)           (None, 10)                310       \n",
            "                                                                 \n",
            " dense_107 (Dense)           (None, 10)                110       \n",
            "                                                                 \n",
            " dense_108 (Dense)           (None, 4)                 44        \n",
            "                                                                 \n",
            "=================================================================\n",
            "Total params: 1,294\n",
            "Trainable params: 1,294\n",
            "Non-trainable params: 0\n",
            "_________________________________________________________________\n"
          ]
        }
      ]
    },
    {
      "cell_type": "code",
      "source": [
        "history = model.fit(df, Y, epochs=40, validation_split=0.2)"
      ],
      "metadata": {
        "id": "ux1BkUnY8FO0"
      },
      "execution_count": null,
      "outputs": []
    },
    {
      "cell_type": "code",
      "source": [
        "df = np.array(df)"
      ],
      "metadata": {
        "id": "TEeKnapABGTh"
      },
      "execution_count": null,
      "outputs": []
    },
    {
      "cell_type": "code",
      "source": [
        "len(df)"
      ],
      "metadata": {
        "colab": {
          "base_uri": "https://localhost:8080/"
        },
        "id": "Wb8DJgsGF0I5",
        "outputId": "5eb16216-d76a-47e3-a813-b77a2afbcdbb"
      },
      "execution_count": 168,
      "outputs": [
        {
          "output_type": "execute_result",
          "data": {
            "text/plain": [
              "36"
            ]
          },
          "metadata": {},
          "execution_count": 168
        }
      ]
    },
    {
      "cell_type": "code",
      "source": [
        "corrects = []\n",
        "for K in range(5,36):\n",
        "  correct = 0\n",
        "  print(f\"k={K}\")\n",
        "  for i in range(36):\n",
        "    data = df[i]\n",
        "    count = [0,0,0,0]\n",
        "    dis = {}\n",
        "    ind = 0\n",
        "    for j in df:\n",
        "      d = np.sum((data-j)**2)\n",
        "      if d==0:\n",
        "        continue\n",
        "      # dis[d]=Y[i]\n",
        "      dis[d]=Y[ind]\n",
        "      ind+=1\n",
        "\n",
        "    keys = dis.keys()\n",
        "    keys = sorted(list(keys))\n",
        "    voted = []\n",
        "    for k in keys[:K]:#no wonder all same\n",
        "      voted.append(dis[k])\n",
        "    # print(np.sum(voted, axis=0))\n",
        "    if np.argmax(np.sum(voted, axis=0)) == np.argmax(Y[i]):\n",
        "      correct += 1\n",
        "    # print(f'predicted: {np.argmax(np.sum(voted, axis=0))}  Real: {np.argmax(Y[i])}')\n",
        "  print(correct)\n",
        "  corrects.append(correct/36)"
      ],
      "metadata": {
        "id": "lqaRfM1MAUqQ"
      },
      "execution_count": null,
      "outputs": []
    },
    {
      "cell_type": "code",
      "source": [
        "pylab.style.use(\"ggplot\")\n",
        "pylab.plot(range(5,36),corrects)\n",
        "pylab.xlabel(\"K\")\n",
        "pylab.xlabel(\"Accuracy\")\n",
        "pylab.title(\"kNN classification accuracy\")"
      ],
      "metadata": {
        "colab": {
          "base_uri": "https://localhost:8080/",
          "height": 316
        },
        "id": "M7SSgloxF8mp",
        "outputId": "86243c7b-84e8-4fa0-9470-abb783833492"
      },
      "execution_count": 177,
      "outputs": [
        {
          "output_type": "execute_result",
          "data": {
            "text/plain": [
              "Text(0.5, 1.0, 'kNN classification accuracy')"
            ]
          },
          "metadata": {},
          "execution_count": 177
        },
        {
          "output_type": "display_data",
          "data": {
            "text/plain": [
              "<Figure size 432x288 with 1 Axes>"
            ],
            "image/png": "[encoded data removed]"
          },
          "metadata": {}
        }
      ]
    },
    {
      "cell_type": "code",
      "source": [
        "df"
      ],
      "metadata": {
        "id": "OZgQA7_WCQPb"
      },
      "execution_count": null,
      "outputs": []
    },
    {
      "cell_type": "code",
      "source": [
        "dis"
      ],
      "metadata": {
        "colab": {
          "base_uri": "https://localhost:8080/"
        },
        "id": "-YY8ytWnCD-y",
        "outputId": "3b4e1f16-fbf6-4d6c-ddf2-16073688e701"
      },
      "execution_count": null,
      "outputs": [
        {
          "output_type": "execute_result",
          "data": {
            "text/plain": [
              "{5.913268433233372: [1, 0, 0, 0],\n",
              " 10.898788253321534: [1, 0, 0, 0],\n",
              " 7.917307169383037: [1, 0, 0, 0],\n",
              " 207.79365672755804: [1, 0, 0, 0],\n",
              " 208.13284113857296: [1, 0, 0, 0],\n",
              " 207.87364849312826: [1, 0, 0, 0],\n",
              " 260.4616141445979: [1, 0, 0, 0],\n",
              " 260.83154953692394: [1, 0, 0, 0],\n",
              " 255.530186297141: [1, 0, 0, 0],\n",
              " 0.09809362637663176: [1, 0, 0, 0],\n",
              " 0.3042135481199195: [1, 0, 0, 0],\n",
              " 59.39076220975228: [1, 0, 0, 0],\n",
              " 40.96684770518941: [1, 0, 0, 0],\n",
              " 40.56678089764808: [1, 0, 0, 0],\n",
              " 11.02053753061714: [1, 0, 0, 0],\n",
              " 14.745458567219927: [1, 0, 0, 0],\n",
              " 15.373055955983048: [1, 0, 0, 0],\n",
              " 79.91569145677508: [1, 0, 0, 0],\n",
              " 77.48697007956824: [1, 0, 0, 0],\n",
              " 69.83959117187915: [1, 0, 0, 0],\n",
              " 288.445996188691: [1, 0, 0, 0],\n",
              " 289.4973097174805: [1, 0, 0, 0],\n",
              " 289.2594342215996: [1, 0, 0, 0],\n",
              " 187.13373917549222: [1, 0, 0, 0],\n",
              " 187.31103801054098: [1, 0, 0, 0],\n",
              " 187.1190551841227: [1, 0, 0, 0],\n",
              " 246.17139394564597: [1, 0, 0, 0],\n",
              " 245.92763071397056: [1, 0, 0, 0],\n",
              " 245.9461901462956: [1, 0, 0, 0],\n",
              " 271.9018979829885: [1, 0, 0, 0],\n",
              " 271.7995619872989: [1, 0, 0, 0],\n",
              " 271.57161403249575: [1, 0, 0, 0],\n",
              " 61.1512585609161: [1, 0, 0, 0],\n",
              " 59.74528046114488: [1, 0, 0, 0],\n",
              " 57.53137544356418: [1, 0, 0, 0]}"
            ]
          },
          "metadata": {},
          "execution_count": 144
        }
      ]
    },
    {
      "cell_type": "code",
      "source": [
        "keys"
      ],
      "metadata": {
        "colab": {
          "base_uri": "https://localhost:8080/"
        },
        "id": "_4Lo5B4cBzSj",
        "outputId": "b17d302a-23e1-4643-de1f-baff179e2612"
      },
      "execution_count": null,
      "outputs": [
        {
          "output_type": "execute_result",
          "data": {
            "text/plain": [
              "[0.1685520305659401,\n",
              " 0.8385694885986336,\n",
              " 4.58204023758193,\n",
              " 5.913268433233372,\n",
              " 8.731895144298106,\n",
              " 16.453339220443645,\n",
              " 16.710168654613184,\n",
              " 27.8421778250814,\n",
              " 29.16608225239204,\n",
              " 29.328511579515634,\n",
              " 29.379688668667413,\n",
              " 30.382451310080032,\n",
              " 35.499083087373855,\n",
              " 36.5604463305413,\n",
              " 36.848883070610704,\n",
              " 42.45414929323277,\n",
              " 44.270303527974356,\n",
              " 142.166278317138,\n",
              " 142.5069577549301,\n",
              " 143.13310340832382,\n",
              " 157.91656018056517,\n",
              " 158.19369135905671,\n",
              " 158.84369871365286,\n",
              " 183.913401068598,\n",
              " 183.9355847308612,\n",
              " 184.18359836210533,\n",
              " 205.90146611197733,\n",
              " 206.68811409805795,\n",
              " 207.041378797352,\n",
              " 207.34718531514272,\n",
              " 211.84187539567836,\n",
              " 212.38892185432297,\n",
              " 230.01537386195912,\n",
              " 231.14549741950157,\n",
              " 231.40193856754485]"
            ]
          },
          "metadata": {},
          "execution_count": 140
        }
      ]
    },
    {
      "cell_type": "markdown",
      "source": [],
      "metadata": {
        "id": "n5xvRdrCBF_i"
      }
    }
  ]
}